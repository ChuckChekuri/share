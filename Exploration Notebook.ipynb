{
 "cells": [
  {
   "cell_type": "code",
   "execution_count": 1,
   "id": "cc9d9809",
   "metadata": {},
   "outputs": [],
   "source": [
    "import pandas as pd \n",
    "import numpy as np\n"
   ]
  },
  {
   "cell_type": "code",
   "execution_count": 5,
   "id": "f1ef9059",
   "metadata": {},
   "outputs": [],
   "source": [
    "# Load the original df\n",
    "ODF = pd.read_csv('DiagVsLOSRange.csv', index_col=None)"
   ]
  },
  {
   "cell_type": "code",
   "execution_count": 26,
   "id": "af058344",
   "metadata": {},
   "outputs": [
    {
     "data": {
      "text/plain": [
       "Index(['LosRange', 'EntitySys', 'TotalLos', 'NumAdmissions', 'IsReadmit',\n",
       "       'Gender', 'Ethinicity', 'Religion', 'MaritalStatus',\n",
       "       'DiagnosisCategory', 'PrimaryDiag', 'DiagGroup', 'DiagDesc', 'C7800',\n",
       "       'I4820', 'R339'],\n",
       "      dtype='object')"
      ]
     },
     "execution_count": 26,
     "metadata": {},
     "output_type": "execute_result"
    }
   ],
   "source": [
    "ODF.columns[1:17]"
   ]
  },
  {
   "cell_type": "code",
   "execution_count": 23,
   "id": "b50a0157",
   "metadata": {},
   "outputs": [
    {
     "data": {
      "text/html": [
       "<div>\n",
       "<style scoped>\n",
       "    .dataframe tbody tr th:only-of-type {\n",
       "        vertical-align: middle;\n",
       "    }\n",
       "\n",
       "    .dataframe tbody tr th {\n",
       "        vertical-align: top;\n",
       "    }\n",
       "\n",
       "    .dataframe thead th {\n",
       "        text-align: right;\n",
       "    }\n",
       "</style>\n",
       "<table border=\"1\" class=\"dataframe\">\n",
       "  <thead>\n",
       "    <tr style=\"text-align: right;\">\n",
       "      <th></th>\n",
       "      <th>EntitySys</th>\n",
       "    </tr>\n",
       "    <tr>\n",
       "      <th>MaritalStatus</th>\n",
       "      <th></th>\n",
       "    </tr>\n",
       "  </thead>\n",
       "  <tbody>\n",
       "    <tr>\n",
       "      <th>Divorced</th>\n",
       "      <td>512</td>\n",
       "    </tr>\n",
       "    <tr>\n",
       "      <th>Married</th>\n",
       "      <td>1857</td>\n",
       "    </tr>\n",
       "    <tr>\n",
       "      <th>Other</th>\n",
       "      <td>7</td>\n",
       "    </tr>\n",
       "    <tr>\n",
       "      <th>Separated</th>\n",
       "      <td>20</td>\n",
       "    </tr>\n",
       "    <tr>\n",
       "      <th>Single</th>\n",
       "      <td>274</td>\n",
       "    </tr>\n",
       "    <tr>\n",
       "      <th>Unknown</th>\n",
       "      <td>81</td>\n",
       "    </tr>\n",
       "    <tr>\n",
       "      <th>Widow(er)</th>\n",
       "      <td>3401</td>\n",
       "    </tr>\n",
       "  </tbody>\n",
       "</table>\n",
       "</div>"
      ],
      "text/plain": [
       "               EntitySys\n",
       "MaritalStatus           \n",
       "Divorced             512\n",
       "Married             1857\n",
       "Other                  7\n",
       "Separated             20\n",
       "Single               274\n",
       "Unknown               81\n",
       "Widow(er)           3401"
      ]
     },
     "execution_count": 23,
     "metadata": {},
     "output_type": "execute_result"
    }
   ],
   "source": [
    "CatCounts = ODF.groupby(by='DiagnosisCategory')[['EntitySys']].count()\n",
    "GenderCounts = ODF.groupby(by='Gender')[['EntitySys']].count()\n",
    "MaritalStatusCounts = ODF.groupby(by='MaritalStatus')[['EntitySys']].count()\n",
    "\n",
    "print(MaritalStatusCounts)"
   ]
  },
  {
   "cell_type": "code",
   "execution_count": 27,
   "id": "67d78348",
   "metadata": {},
   "outputs": [
    {
     "name": "stdout",
     "output_type": "stream",
     "text": [
      "        EntitySys\n",
      "Gender           \n",
      "Female       3973\n",
      "Male         2315\n"
     ]
    }
   ],
   "source": [
    "print(GenderCounts)"
   ]
  },
  {
   "cell_type": "code",
   "execution_count": 30,
   "id": "3cb3a28e",
   "metadata": {},
   "outputs": [
    {
     "data": {
      "text/html": [
       "<div>\n",
       "<style scoped>\n",
       "    .dataframe tbody tr th:only-of-type {\n",
       "        vertical-align: middle;\n",
       "    }\n",
       "\n",
       "    .dataframe tbody tr th {\n",
       "        vertical-align: top;\n",
       "    }\n",
       "\n",
       "    .dataframe thead th {\n",
       "        text-align: right;\n",
       "    }\n",
       "</style>\n",
       "<table border=\"1\" class=\"dataframe\">\n",
       "  <thead>\n",
       "    <tr style=\"text-align: right;\">\n",
       "      <th></th>\n",
       "      <th>EntitySys</th>\n",
       "    </tr>\n",
       "    <tr>\n",
       "      <th>LosRange</th>\n",
       "      <th></th>\n",
       "    </tr>\n",
       "  </thead>\n",
       "  <tbody>\n",
       "    <tr>\n",
       "      <th>0:&lt;7</th>\n",
       "      <td>1536</td>\n",
       "    </tr>\n",
       "    <tr>\n",
       "      <th>1:8-14</th>\n",
       "      <td>765</td>\n",
       "    </tr>\n",
       "    <tr>\n",
       "      <th>2:15-30</th>\n",
       "      <td>845</td>\n",
       "    </tr>\n",
       "    <tr>\n",
       "      <th>3:31-60</th>\n",
       "      <td>834</td>\n",
       "    </tr>\n",
       "    <tr>\n",
       "      <th>4:61-120</th>\n",
       "      <td>804</td>\n",
       "    </tr>\n",
       "    <tr>\n",
       "      <th>5:121-180</th>\n",
       "      <td>403</td>\n",
       "    </tr>\n",
       "    <tr>\n",
       "      <th>6:180+</th>\n",
       "      <td>1101</td>\n",
       "    </tr>\n",
       "  </tbody>\n",
       "</table>\n",
       "</div>"
      ],
      "text/plain": [
       "           EntitySys\n",
       "LosRange            \n",
       "0:<7            1536\n",
       "1:8-14           765\n",
       "2:15-30          845\n",
       "3:31-60          834\n",
       "4:61-120         804\n",
       "5:121-180        403\n",
       "6:180+          1101"
      ]
     },
     "execution_count": 30,
     "metadata": {},
     "output_type": "execute_result"
    }
   ],
   "source": [
    "ODF.groupby(by='LosRange')[['EntitySys']].count()"
   ]
  },
  {
   "cell_type": "code",
   "execution_count": 32,
   "id": "d3d1379b",
   "metadata": {},
   "outputs": [],
   "source": [
    "df = ODF.groupby(by=['LosRange','MaritalStatus'])"
   ]
  },
  {
   "cell_type": "code",
   "execution_count": 35,
   "id": "e2a404a4",
   "metadata": {},
   "outputs": [
    {
     "data": {
      "text/plain": [
       "LosRange   MaritalStatus\n",
       "0:<7       Divorced         129\n",
       "           Married          504\n",
       "           Separated          7\n",
       "           Single            72\n",
       "           Unknown           17\n",
       "           Widow(er)        779\n",
       "1:8-14     Divorced          69\n",
       "           Married          253\n",
       "           Separated          4\n",
       "           Single            40\n",
       "           Unknown            7\n",
       "           Widow(er)        383\n",
       "2:15-30    Divorced          65\n",
       "           Married          276\n",
       "           Other              2\n",
       "           Separated          5\n",
       "           Single            37\n",
       "           Unknown           10\n",
       "           Widow(er)        434\n",
       "3:31-60    Divorced          69\n",
       "           Married          241\n",
       "           Separated          2\n",
       "           Single            36\n",
       "           Unknown           11\n",
       "           Widow(er)        461\n",
       "4:61-120   Divorced          66\n",
       "           Married          220\n",
       "           Other              1\n",
       "           Single            38\n",
       "           Unknown           10\n",
       "           Widow(er)        449\n",
       "5:121-180  Divorced          24\n",
       "           Married           99\n",
       "           Other              1\n",
       "           Separated          1\n",
       "           Single            16\n",
       "           Unknown            8\n",
       "           Widow(er)        245\n",
       "6:180+     Divorced          90\n",
       "           Married          264\n",
       "           Other              3\n",
       "           Separated          1\n",
       "           Single            35\n",
       "           Unknown           18\n",
       "           Widow(er)        650\n",
       "Name: EntitySys, dtype: int64"
      ]
     },
     "execution_count": 35,
     "metadata": {},
     "output_type": "execute_result"
    }
   ],
   "source": [
    "df.count()['EntitySys']"
   ]
  },
  {
   "cell_type": "code",
   "execution_count": null,
   "id": "44d43f57",
   "metadata": {},
   "outputs": [],
   "source": []
  }
 ],
 "metadata": {
  "kernelspec": {
   "display_name": "Python 3",
   "language": "python",
   "name": "python3"
  },
  "language_info": {
   "codemirror_mode": {
    "name": "ipython",
    "version": 3
   },
   "file_extension": ".py",
   "mimetype": "text/x-python",
   "name": "python",
   "nbconvert_exporter": "python",
   "pygments_lexer": "ipython3",
   "version": "3.8.8"
  },
  "toc": {
   "base_numbering": 1,
   "nav_menu": {},
   "number_sections": true,
   "sideBar": true,
   "skip_h1_title": false,
   "title_cell": "Table of Contents",
   "title_sidebar": "Contents",
   "toc_cell": false,
   "toc_position": {},
   "toc_section_display": true,
   "toc_window_display": false
  }
 },
 "nbformat": 4,
 "nbformat_minor": 5
}
